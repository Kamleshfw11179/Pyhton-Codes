{
 "cells": [
  {
   "cell_type": "code",
   "execution_count": 1,
   "metadata": {},
   "outputs": [],
   "source": [
    "import random\n",
    "import math"
   ]
  },
  {
   "cell_type": "code",
   "execution_count": 3,
   "metadata": {},
   "outputs": [
    {
     "name": "stdout",
     "output_type": "stream",
     "text": [
      "Please enter players name:- Ramesh\n",
      "Player one please wait rolling.\n",
      "6\n",
      "Please enter players name:- Suresh\n",
      "Player two please wait rolling.\n",
      "4\n",
      "Player Ramesh won.\n",
      "Please enter s to stop and c to continue. c\n",
      "Please enter players name:- Raju\n",
      "Player one please wait rolling.\n",
      "6\n",
      "Please enter players name:- Suresh\n",
      "Player two please wait rolling.\n",
      "1\n",
      "Player Raju won.\n",
      "Please enter s to stop and c to continue. s\n"
     ]
    }
   ],
   "source": [
    "def diceRoller():\n",
    "    playing = True\n",
    "    while(playing==True):\n",
    "        if(playing):\n",
    "            x = input(\"Please enter players name:- \")\n",
    "            print(\"Player one please wait rolling.\")\n",
    "            val1 = random.randint(1,6)\n",
    "            print(val1)\n",
    "            y = input(\"Please enter players name:- \")\n",
    "            print(\"Player two please wait rolling.\")\n",
    "            val2 = random.randint(1,6)\n",
    "            print(val2)\n",
    "            \n",
    "            if(val1>val2):\n",
    "                print(\"Player % s won.\" % x)\n",
    "            else:\n",
    "                print(\"Player % s won.\" % y)\n",
    "                \n",
    "        while(playing):\n",
    "            x = input(\"Please enter s to stop and c to continue. \")\n",
    "            if(x.lower()==\"s\"):\n",
    "                playing=False\n",
    "                return\n",
    "            else:\n",
    "                break\n",
    "                \n",
    "                \n",
    "diceRoller()"
   ]
  },
  {
   "cell_type": "code",
   "execution_count": null,
   "metadata": {},
   "outputs": [],
   "source": []
  },
  {
   "cell_type": "code",
   "execution_count": null,
   "metadata": {},
   "outputs": [],
   "source": []
  },
  {
   "cell_type": "code",
   "execution_count": null,
   "metadata": {},
   "outputs": [],
   "source": []
  }
 ],
 "metadata": {
  "kernelspec": {
   "display_name": "Python 3",
   "language": "python",
   "name": "python3"
  },
  "language_info": {
   "codemirror_mode": {
    "name": "ipython",
    "version": 3
   },
   "file_extension": ".py",
   "mimetype": "text/x-python",
   "name": "python",
   "nbconvert_exporter": "python",
   "pygments_lexer": "ipython3",
   "version": "3.7.6"
  }
 },
 "nbformat": 4,
 "nbformat_minor": 4
}
